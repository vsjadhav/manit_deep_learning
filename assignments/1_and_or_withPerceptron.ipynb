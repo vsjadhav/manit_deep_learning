{
  "nbformat": 4,
  "nbformat_minor": 0,
  "metadata": {
    "colab": {
      "name": "Copy of 1_and_or_withPerceptron.ipynb",
      "provenance": [],
      "collapsed_sections": []
    },
    "kernelspec": {
      "name": "python3",
      "display_name": "Python 3"
    }
  },
  "cells": [
    {
      "cell_type": "code",
      "metadata": {
        "colab": {
          "base_uri": "https://localhost:8080/",
          "height": 333
        },
        "id": "KWiAeGznpSgr",
        "outputId": "c0bdd3b3-0500-48a8-a3cc-59a2bd5f842f"
      },
      "source": [
        "import numpy as np\r\n",
        "import matplotlib.pyplot as plt\r\n",
        "X = np.array([[0,0],[0,1],[1,0],[1,1]])\r\n",
        "# y = np.array([0,1,1,1]) # For OR use this y array\r\n",
        "y = np.array([0,0,0,1]) # For AND use this y array\r\n",
        "\r\n",
        "def step_function(x):\r\n",
        "    return x>=0\r\n",
        "\r\n",
        "def perceptron(aplha,bias):\r\n",
        "    W = np.random.rand(2)\r\n",
        "    l=[False]\r\n",
        "    epochs=0\r\n",
        "    while(all(l)!=True):\r\n",
        "        l=[]\r\n",
        "        for i in range(4):\r\n",
        "            pred = step_function(W.dot(X[i]) + bias)\r\n",
        "            W = W - (alpha*(pred-y[i]))*X[i]\r\n",
        "            bias = bias - (alpha*(pred-y[i]))\r\n",
        "        for i in range(4):\r\n",
        "            l.append((step_function(W.dot(X[i]) + bias))==y[i])\r\n",
        "        epochs +=1\r\n",
        "    return (W,bias,epochs);\r\n",
        "\r\n",
        "def test(x1,x2,weights,bias):\r\n",
        "    ans1 =(weights[0]*x1 + weights[1]*x2 + bias)\r\n",
        "    return step_function(ans1)\r\n",
        "\r\n",
        "\r\n",
        "alpha = 0.1\r\n",
        "bias = 0\r\n",
        "ans = perceptron(alpha,bias)\r\n",
        "weights = ans[0]\r\n",
        "bias = ans[1]\r\n",
        "epochs= ans[2]\r\n",
        "\r\n",
        "# If you want to test use this\r\n",
        "x1 = int(input(\"Enter x1: \"))\r\n",
        "x2 = int(input(\"Enter x2: \"))\r\n",
        "# Works only if x1 & x2 are binary\r\n",
        "print(f\"epochs taken: {epochs}\")\r\n",
        "print(test(x1,x2,weights,bias))\r\n",
        "\r\n",
        "X1 = [0,0,1,1]\r\n",
        "X2 = [0,1,0,1]\r\n",
        "plt.plot(X1,X2,'ro')\r\n",
        "pnt1 = (-bias/weights[0])\r\n",
        "pnt2 = (-bias/weights[1])\r\n",
        "point1 = [pnt1,0]\r\n",
        "point2 = [0,pnt2]\r\n",
        "# point1 = [0,pnt1]\r\n",
        "# point2 = [pnt2,0]\r\n",
        "plt.plot(point1,point2,'b-')\r\n",
        "plt.show()"
      ],
      "execution_count": 2,
      "outputs": [
        {
          "output_type": "stream",
          "text": [
            "Enter x1: 0\n",
            "Enter x2: 0\n",
            "epochs taken: 3\n",
            "False\n"
          ],
          "name": "stdout"
        },
        {
          "output_type": "display_data",
          "data": {
            "image/png": "[encoded data removed]",
            "text/plain": [
              "<Figure size 432x288 with 1 Axes>"
            ]
          },
          "metadata": {
            "tags": [],
            "needs_background": "light"
          }
        }
      ]
    }
  ]
}